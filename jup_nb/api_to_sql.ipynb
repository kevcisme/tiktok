{
 "cells": [
  {
   "cell_type": "markdown",
   "metadata": {},
   "source": [
    "# TikTok "
   ]
  },
  {
   "cell_type": "code",
   "execution_count": 17,
   "metadata": {},
   "outputs": [],
   "source": [
    "#!pip install TikTokApi nest_asyncio --quiet"
   ]
  },
  {
   "cell_type": "code",
   "execution_count": 1,
   "metadata": {},
   "outputs": [],
   "source": [
    "import pandas as pd\n",
    "import psycopg2 as pg\n",
    "\n",
    "from creds import *\n",
    "from TikTokApi import TikTokApi\n",
    "from tiktoknames import *\n",
    "\n",
    "# note: jupyter has an issue with async that we have two event loops running \n",
    "# one in Jupyter and one in the tiktokapi library\n",
    "# https://github.com/jupyter/notebook/issues/3397#issuecomment-376803076\n",
    "# running the next few lines overcome\n",
    "# that we have two event loops running - one in Jupyter and one in the \n",
    "import nest_asyncio\n",
    "nest_asyncio.apply()"
   ]
  },
  {
   "cell_type": "markdown",
   "metadata": {},
   "source": [
    "Setting up a helper function to keep code dry"
   ]
  },
  {
   "cell_type": "code",
   "execution_count": 2,
   "metadata": {},
   "outputs": [],
   "source": [
    "def db_query(table_name):\n",
    "    ''' Given a table name, return back all columns and all rows for that table'''\n",
    "    try:\n",
    "        conn = pg.connect(host=the_host, database=the_database, user=the_user, password=the_password)\n",
    "        curs = conn.cursor()\n",
    "        curs.execute(f\"\"\"SELECT *FROM {table_name};\"\"\")\n",
    "        datum = curs.fetchall()\n",
    "        conn.close()\n",
    "        return datum\n",
    "    except psycopg2.IntegrityError as e:\n",
    "        print(e)"
   ]
  },
  {
   "cell_type": "code",
   "execution_count": 3,
   "metadata": {},
   "outputs": [
    {
     "data": {
      "text/plain": [
       "[('@fakeuser1', 'watched video', 'LIKED'),\n",
       " ('@fakeuser2', 'watched video', 'WATCHED')]"
      ]
     },
     "execution_count": 3,
     "metadata": {},
     "output_type": "execute_result"
    }
   ],
   "source": [
    "db_query('firsttable')"
   ]
  },
  {
   "cell_type": "code",
   "execution_count": 4,
   "metadata": {},
   "outputs": [],
   "source": [
    "class Table:\n",
    "    def __init__(self, columns):\n",
    "        self.columns = columns \n",
    "        self.rows = []\n",
    "    def __repr__(self):\n",
    "        \"\"\"pretty representation of the table: columns then rows\"\"\" \n",
    "        return str(self.columns) + \"\\n\" + \"\\n\".join(map(str, self.rows))\n",
    "    def insert(self, row_values):\n",
    "        if len(row_values) != len(self.columns):\n",
    "            raise TypeError(\"wrong number of elements\") \n",
    "            row_dict = dict(zip(self.columns, row_values)) \n",
    "            self.rows.append(row_dict)"
   ]
  },
  {
   "cell_type": "markdown",
   "metadata": {},
   "source": [
    "First obtain data. Here I'm following the pattern found in _Docker for Data Science_ wherein my notebooks remain idempotent."
   ]
  },
  {
   "cell_type": "code",
   "execution_count": 5,
   "metadata": {},
   "outputs": [],
   "source": [
    "api = TikTokApi()"
   ]
  },
  {
   "cell_type": "code",
   "execution_count": 7,
   "metadata": {
    "scrolled": true
   },
   "outputs": [
    {
     "ename": "AttributeError",
     "evalue": "'browser' object has no attribute 'browser'",
     "output_type": "error",
     "traceback": [
      "\u001b[0;31m---------------------------------------------------------------------------\u001b[0m",
      "\u001b[0;31mBrowserError\u001b[0m                              Traceback (most recent call last)",
      "\u001b[0;32m/opt/conda/lib/python3.7/site-packages/TikTokApi/browser.py\u001b[0m in \u001b[0;36mstart\u001b[0;34m(self)\u001b[0m\n\u001b[1;32m     58\u001b[0m         \u001b[0;32mtry\u001b[0m\u001b[0;34m:\u001b[0m\u001b[0;34m\u001b[0m\u001b[0;34m\u001b[0m\u001b[0m\n\u001b[0;32m---> 59\u001b[0;31m             \u001b[0mself\u001b[0m\u001b[0;34m.\u001b[0m\u001b[0mbrowser\u001b[0m \u001b[0;34m=\u001b[0m \u001b[0;32mawait\u001b[0m \u001b[0mpyppeteer\u001b[0m\u001b[0;34m.\u001b[0m\u001b[0mlaunch\u001b[0m\u001b[0;34m(\u001b[0m\u001b[0mself\u001b[0m\u001b[0;34m.\u001b[0m\u001b[0moptions\u001b[0m\u001b[0;34m)\u001b[0m\u001b[0;34m\u001b[0m\u001b[0;34m\u001b[0m\u001b[0m\n\u001b[0m\u001b[1;32m     60\u001b[0m             \u001b[0mself\u001b[0m\u001b[0;34m.\u001b[0m\u001b[0mpage\u001b[0m \u001b[0;34m=\u001b[0m \u001b[0;32mawait\u001b[0m \u001b[0mself\u001b[0m\u001b[0;34m.\u001b[0m\u001b[0mbrowser\u001b[0m\u001b[0;34m.\u001b[0m\u001b[0mnewPage\u001b[0m\u001b[0;34m(\u001b[0m\u001b[0;34m)\u001b[0m\u001b[0;34m\u001b[0m\u001b[0;34m\u001b[0m\u001b[0m\n",
      "\u001b[0;32m/opt/conda/lib/python3.7/site-packages/pyppeteer/launcher.py\u001b[0m in \u001b[0;36mlaunch\u001b[0;34m(options, **kwargs)\u001b[0m\n\u001b[1;32m    304\u001b[0m     \"\"\"\n\u001b[0;32m--> 305\u001b[0;31m     \u001b[0;32mreturn\u001b[0m \u001b[0;32mawait\u001b[0m \u001b[0mLauncher\u001b[0m\u001b[0;34m(\u001b[0m\u001b[0moptions\u001b[0m\u001b[0;34m,\u001b[0m \u001b[0;34m**\u001b[0m\u001b[0mkwargs\u001b[0m\u001b[0;34m)\u001b[0m\u001b[0;34m.\u001b[0m\u001b[0mlaunch\u001b[0m\u001b[0;34m(\u001b[0m\u001b[0;34m)\u001b[0m\u001b[0;34m\u001b[0m\u001b[0;34m\u001b[0m\u001b[0m\n\u001b[0m\u001b[1;32m    306\u001b[0m \u001b[0;34m\u001b[0m\u001b[0m\n",
      "\u001b[0;32m/opt/conda/lib/python3.7/site-packages/pyppeteer/launcher.py\u001b[0m in \u001b[0;36mlaunch\u001b[0;34m(self)\u001b[0m\n\u001b[1;32m    165\u001b[0m         \u001b[0mconnectionDelay\u001b[0m \u001b[0;34m=\u001b[0m \u001b[0mself\u001b[0m\u001b[0;34m.\u001b[0m\u001b[0mslowMo\u001b[0m\u001b[0;34m\u001b[0m\u001b[0;34m\u001b[0m\u001b[0m\n\u001b[0;32m--> 166\u001b[0;31m         \u001b[0mself\u001b[0m\u001b[0;34m.\u001b[0m\u001b[0mbrowserWSEndpoint\u001b[0m \u001b[0;34m=\u001b[0m \u001b[0mget_ws_endpoint\u001b[0m\u001b[0;34m(\u001b[0m\u001b[0mself\u001b[0m\u001b[0;34m.\u001b[0m\u001b[0murl\u001b[0m\u001b[0;34m)\u001b[0m\u001b[0;34m\u001b[0m\u001b[0;34m\u001b[0m\u001b[0m\n\u001b[0m\u001b[1;32m    167\u001b[0m         \u001b[0mlogger\u001b[0m\u001b[0;34m.\u001b[0m\u001b[0minfo\u001b[0m\u001b[0;34m(\u001b[0m\u001b[0;34mf'Browser listening on: {self.browserWSEndpoint}'\u001b[0m\u001b[0;34m)\u001b[0m\u001b[0;34m\u001b[0m\u001b[0;34m\u001b[0m\u001b[0m\n",
      "\u001b[0;32m/opt/conda/lib/python3.7/site-packages/pyppeteer/launcher.py\u001b[0m in \u001b[0;36mget_ws_endpoint\u001b[0;34m(url)\u001b[0m\n\u001b[1;32m    224\u001b[0m         \u001b[0;32mif\u001b[0m \u001b[0mtime\u001b[0m\u001b[0;34m.\u001b[0m\u001b[0mtime\u001b[0m\u001b[0;34m(\u001b[0m\u001b[0;34m)\u001b[0m \u001b[0;34m>\u001b[0m \u001b[0mtimeout\u001b[0m\u001b[0;34m:\u001b[0m\u001b[0;34m\u001b[0m\u001b[0;34m\u001b[0m\u001b[0m\n\u001b[0;32m--> 225\u001b[0;31m             \u001b[0;32mraise\u001b[0m \u001b[0mBrowserError\u001b[0m\u001b[0;34m(\u001b[0m\u001b[0;34m'Browser closed unexpectedly:\\n'\u001b[0m\u001b[0;34m)\u001b[0m\u001b[0;34m\u001b[0m\u001b[0;34m\u001b[0m\u001b[0m\n\u001b[0m\u001b[1;32m    226\u001b[0m         \u001b[0;32mtry\u001b[0m\u001b[0;34m:\u001b[0m\u001b[0;34m\u001b[0m\u001b[0;34m\u001b[0m\u001b[0m\n",
      "\u001b[0;31mBrowserError\u001b[0m: Browser closed unexpectedly:\n",
      "\nDuring handling of the above exception, another exception occurred:\n",
      "\u001b[0;31mAttributeError\u001b[0m                            Traceback (most recent call last)",
      "\u001b[0;32m<ipython-input-7-53c2ea43ad67>\u001b[0m in \u001b[0;36m<module>\u001b[0;34m\u001b[0m\n\u001b[0;32m----> 1\u001b[0;31m \u001b[0mme\u001b[0m \u001b[0;34m=\u001b[0m \u001b[0mapi\u001b[0m\u001b[0;34m.\u001b[0m\u001b[0mgetUser\u001b[0m\u001b[0;34m(\u001b[0m\u001b[0;34m'kevcisme'\u001b[0m\u001b[0;34m)\u001b[0m\u001b[0;34m\u001b[0m\u001b[0;34m\u001b[0m\u001b[0m\n\u001b[0m",
      "\u001b[0;32m/opt/conda/lib/python3.7/site-packages/TikTokApi/tiktok.py\u001b[0m in \u001b[0;36mgetUser\u001b[0;34m(self, username, language, proxy)\u001b[0m\n\u001b[1;32m    332\u001b[0m         api_url = \"https://m.tiktok.com/api/user/detail/?uniqueId={}&language={}\".format(\n\u001b[1;32m    333\u001b[0m             username, language)\n\u001b[0;32m--> 334\u001b[0;31m         \u001b[0mb\u001b[0m \u001b[0;34m=\u001b[0m \u001b[0mbrowser\u001b[0m\u001b[0;34m(\u001b[0m\u001b[0mapi_url\u001b[0m\u001b[0;34m,\u001b[0m \u001b[0mproxy\u001b[0m\u001b[0;34m=\u001b[0m\u001b[0mproxy\u001b[0m\u001b[0;34m)\u001b[0m\u001b[0;34m\u001b[0m\u001b[0;34m\u001b[0m\u001b[0m\n\u001b[0m\u001b[1;32m    335\u001b[0m         \u001b[0;32mreturn\u001b[0m \u001b[0mself\u001b[0m\u001b[0;34m.\u001b[0m\u001b[0mgetData\u001b[0m\u001b[0;34m(\u001b[0m\u001b[0mapi_url\u001b[0m\u001b[0;34m,\u001b[0m \u001b[0mb\u001b[0m\u001b[0;34m,\u001b[0m \u001b[0mproxy\u001b[0m\u001b[0;34m=\u001b[0m\u001b[0mproxy\u001b[0m\u001b[0;34m)\u001b[0m\u001b[0;34m\u001b[0m\u001b[0;34m\u001b[0m\u001b[0m\n\u001b[1;32m    336\u001b[0m \u001b[0;34m\u001b[0m\u001b[0m\n",
      "\u001b[0;32m/opt/conda/lib/python3.7/site-packages/TikTokApi/browser.py\u001b[0m in \u001b[0;36m__init__\u001b[0;34m(self, url, language, proxy, find_redirect, api_url)\u001b[0m\n\u001b[1;32m     53\u001b[0m             \u001b[0mloop\u001b[0m\u001b[0;34m.\u001b[0m\u001b[0mrun_until_complete\u001b[0m\u001b[0;34m(\u001b[0m\u001b[0mself\u001b[0m\u001b[0;34m.\u001b[0m\u001b[0mfind_redirect\u001b[0m\u001b[0;34m(\u001b[0m\u001b[0;34m)\u001b[0m\u001b[0;34m)\u001b[0m\u001b[0;34m\u001b[0m\u001b[0;34m\u001b[0m\u001b[0m\n\u001b[1;32m     54\u001b[0m         \u001b[0;32melse\u001b[0m\u001b[0;34m:\u001b[0m\u001b[0;34m\u001b[0m\u001b[0;34m\u001b[0m\u001b[0m\n\u001b[0;32m---> 55\u001b[0;31m             \u001b[0mloop\u001b[0m\u001b[0;34m.\u001b[0m\u001b[0mrun_until_complete\u001b[0m\u001b[0;34m(\u001b[0m\u001b[0mself\u001b[0m\u001b[0;34m.\u001b[0m\u001b[0mstart\u001b[0m\u001b[0;34m(\u001b[0m\u001b[0;34m)\u001b[0m\u001b[0;34m)\u001b[0m\u001b[0;34m\u001b[0m\u001b[0;34m\u001b[0m\u001b[0m\n\u001b[0m\u001b[1;32m     56\u001b[0m \u001b[0;34m\u001b[0m\u001b[0m\n\u001b[1;32m     57\u001b[0m     \u001b[0;32masync\u001b[0m \u001b[0;32mdef\u001b[0m \u001b[0mstart\u001b[0m\u001b[0;34m(\u001b[0m\u001b[0mself\u001b[0m\u001b[0;34m)\u001b[0m\u001b[0;34m:\u001b[0m\u001b[0;34m\u001b[0m\u001b[0;34m\u001b[0m\u001b[0m\n",
      "\u001b[0;32m/opt/conda/lib/python3.7/site-packages/nest_asyncio.py\u001b[0m in \u001b[0;36mrun_until_complete\u001b[0;34m(self, future)\u001b[0m\n\u001b[1;32m     57\u001b[0m         \u001b[0;32mif\u001b[0m \u001b[0;32mnot\u001b[0m \u001b[0mf\u001b[0m\u001b[0;34m.\u001b[0m\u001b[0mdone\u001b[0m\u001b[0;34m(\u001b[0m\u001b[0;34m)\u001b[0m\u001b[0;34m:\u001b[0m\u001b[0;34m\u001b[0m\u001b[0;34m\u001b[0m\u001b[0m\n\u001b[1;32m     58\u001b[0m             \u001b[0;32mraise\u001b[0m \u001b[0mRuntimeError\u001b[0m\u001b[0;34m(\u001b[0m\u001b[0;34m'Event loop stopped before Future completed.'\u001b[0m\u001b[0;34m)\u001b[0m\u001b[0;34m\u001b[0m\u001b[0;34m\u001b[0m\u001b[0m\n\u001b[0;32m---> 59\u001b[0;31m         \u001b[0;32mreturn\u001b[0m \u001b[0mf\u001b[0m\u001b[0;34m.\u001b[0m\u001b[0mresult\u001b[0m\u001b[0;34m(\u001b[0m\u001b[0;34m)\u001b[0m\u001b[0;34m\u001b[0m\u001b[0;34m\u001b[0m\u001b[0m\n\u001b[0m\u001b[1;32m     60\u001b[0m \u001b[0;34m\u001b[0m\u001b[0m\n\u001b[1;32m     61\u001b[0m     \u001b[0;32mdef\u001b[0m \u001b[0m_run_once\u001b[0m\u001b[0;34m(\u001b[0m\u001b[0mself\u001b[0m\u001b[0;34m)\u001b[0m\u001b[0;34m:\u001b[0m\u001b[0;34m\u001b[0m\u001b[0;34m\u001b[0m\u001b[0m\n",
      "\u001b[0;32m/opt/conda/lib/python3.7/asyncio/futures.py\u001b[0m in \u001b[0;36mresult\u001b[0;34m(self)\u001b[0m\n\u001b[1;32m    179\u001b[0m         \u001b[0mself\u001b[0m\u001b[0;34m.\u001b[0m\u001b[0m__log_traceback\u001b[0m \u001b[0;34m=\u001b[0m \u001b[0;32mFalse\u001b[0m\u001b[0;34m\u001b[0m\u001b[0;34m\u001b[0m\u001b[0m\n\u001b[1;32m    180\u001b[0m         \u001b[0;32mif\u001b[0m \u001b[0mself\u001b[0m\u001b[0;34m.\u001b[0m\u001b[0m_exception\u001b[0m \u001b[0;32mis\u001b[0m \u001b[0;32mnot\u001b[0m \u001b[0;32mNone\u001b[0m\u001b[0;34m:\u001b[0m\u001b[0;34m\u001b[0m\u001b[0;34m\u001b[0m\u001b[0m\n\u001b[0;32m--> 181\u001b[0;31m             \u001b[0;32mraise\u001b[0m \u001b[0mself\u001b[0m\u001b[0;34m.\u001b[0m\u001b[0m_exception\u001b[0m\u001b[0;34m\u001b[0m\u001b[0;34m\u001b[0m\u001b[0m\n\u001b[0m\u001b[1;32m    182\u001b[0m         \u001b[0;32mreturn\u001b[0m \u001b[0mself\u001b[0m\u001b[0;34m.\u001b[0m\u001b[0m_result\u001b[0m\u001b[0;34m\u001b[0m\u001b[0;34m\u001b[0m\u001b[0m\n\u001b[1;32m    183\u001b[0m \u001b[0;34m\u001b[0m\u001b[0m\n",
      "\u001b[0;32m/opt/conda/lib/python3.7/asyncio/tasks.py\u001b[0m in \u001b[0;36m__step\u001b[0;34m(***failed resolving arguments***)\u001b[0m\n\u001b[1;32m    247\u001b[0m                 \u001b[0;31m# We use the `send` method directly, because coroutines\u001b[0m\u001b[0;34m\u001b[0m\u001b[0;34m\u001b[0m\u001b[0;34m\u001b[0m\u001b[0m\n\u001b[1;32m    248\u001b[0m                 \u001b[0;31m# don't have `__iter__` and `__next__` methods.\u001b[0m\u001b[0;34m\u001b[0m\u001b[0;34m\u001b[0m\u001b[0;34m\u001b[0m\u001b[0m\n\u001b[0;32m--> 249\u001b[0;31m                 \u001b[0mresult\u001b[0m \u001b[0;34m=\u001b[0m \u001b[0mcoro\u001b[0m\u001b[0;34m.\u001b[0m\u001b[0msend\u001b[0m\u001b[0;34m(\u001b[0m\u001b[0;32mNone\u001b[0m\u001b[0;34m)\u001b[0m\u001b[0;34m\u001b[0m\u001b[0;34m\u001b[0m\u001b[0m\n\u001b[0m\u001b[1;32m    250\u001b[0m             \u001b[0;32melse\u001b[0m\u001b[0;34m:\u001b[0m\u001b[0;34m\u001b[0m\u001b[0;34m\u001b[0m\u001b[0m\n\u001b[1;32m    251\u001b[0m                 \u001b[0mresult\u001b[0m \u001b[0;34m=\u001b[0m \u001b[0mcoro\u001b[0m\u001b[0;34m.\u001b[0m\u001b[0mthrow\u001b[0m\u001b[0;34m(\u001b[0m\u001b[0mexc\u001b[0m\u001b[0;34m)\u001b[0m\u001b[0;34m\u001b[0m\u001b[0;34m\u001b[0m\u001b[0m\n",
      "\u001b[0;32m/opt/conda/lib/python3.7/site-packages/TikTokApi/browser.py\u001b[0m in \u001b[0;36mstart\u001b[0;34m(self)\u001b[0m\n\u001b[1;32m    111\u001b[0m             \u001b[0;32mawait\u001b[0m \u001b[0mself\u001b[0m\u001b[0;34m.\u001b[0m\u001b[0mbrowser\u001b[0m\u001b[0;34m.\u001b[0m\u001b[0mclose\u001b[0m\u001b[0;34m(\u001b[0m\u001b[0;34m)\u001b[0m\u001b[0;34m\u001b[0m\u001b[0;34m\u001b[0m\u001b[0m\n\u001b[1;32m    112\u001b[0m         \u001b[0;32mexcept\u001b[0m\u001b[0;34m:\u001b[0m\u001b[0;34m\u001b[0m\u001b[0;34m\u001b[0m\u001b[0m\n\u001b[0;32m--> 113\u001b[0;31m             \u001b[0;32mawait\u001b[0m \u001b[0mself\u001b[0m\u001b[0;34m.\u001b[0m\u001b[0mbrowser\u001b[0m\u001b[0;34m.\u001b[0m\u001b[0mclose\u001b[0m\u001b[0;34m(\u001b[0m\u001b[0;34m)\u001b[0m\u001b[0;34m\u001b[0m\u001b[0;34m\u001b[0m\u001b[0m\n\u001b[0m\u001b[1;32m    114\u001b[0m \u001b[0;34m\u001b[0m\u001b[0m\n\u001b[1;32m    115\u001b[0m     \u001b[0;32masync\u001b[0m \u001b[0;32mdef\u001b[0m \u001b[0mfind_redirect\u001b[0m\u001b[0;34m(\u001b[0m\u001b[0mself\u001b[0m\u001b[0;34m)\u001b[0m\u001b[0;34m:\u001b[0m\u001b[0;34m\u001b[0m\u001b[0;34m\u001b[0m\u001b[0m\n",
      "\u001b[0;31mAttributeError\u001b[0m: 'browser' object has no attribute 'browser'"
     ]
    }
   ],
   "source": [
    "me = api.getUser('kevcisme')"
   ]
  },
  {
   "cell_type": "code",
   "execution_count": null,
   "metadata": {},
   "outputs": [],
   "source": [
    "from pyppeteer.launcher import Launcher\n",
    "print(' '.join(Launcher().cmd))"
   ]
  },
  {
   "cell_type": "code",
   "execution_count": null,
   "metadata": {
    "scrolled": true
   },
   "outputs": [
    {
     "name": "stdout",
     "output_type": "stream",
     "text": [
      "..amyana\n",
      "'browser' object has no attribute 'browser'\n",
      ".l.o.l\n",
      "'browser' object has no attribute 'browser'\n",
      "tripland\n",
      "'browser' object has no attribute 'browser'\n",
      "saif_rayeen\n",
      "'browser' object has no attribute 'browser'\n",
      "koronavirus.ss\n",
      "'browser' object has no attribute 'browser'\n",
      "jor2dan99\n",
      "'browser' object has no attribute 'browser'\n",
      "lorangray\n",
      "'browser' object has no attribute 'browser'\n",
      "millieswaffles\n",
      "'browser' object has no attribute 'browser'\n",
      "ezgizemvsp\n",
      "'browser' object has no attribute 'browser'\n",
      "dreamerandachiever\n",
      "'browser' object has no attribute 'browser'\n",
      "i_love_poop1\n",
      "'browser' object has no attribute 'browser'\n",
      "antoniiog\n",
      "'browser' object has no attribute 'browser'\n",
      "jenna1236\n",
      "'browser' object has no attribute 'browser'\n",
      "sunflower_adopt.me_\n",
      "'browser' object has no attribute 'browser'\n",
      "gracemeow\n",
      "'browser' object has no attribute 'browser'\n",
      "xx_toba_xx\n",
      "'browser' object has no attribute 'browser'\n",
      "trackerthekid\n",
      "'browser' object has no attribute 'browser'\n",
      "iokasti_mix\n",
      "'browser' object has no attribute 'browser'\n",
      "user94681479\n",
      "'browser' object has no attribute 'browser'\n",
      "nur_rr\n",
      "'browser' object has no attribute 'browser'\n",
      "gunjanpare\n",
      "'browser' object has no attribute 'browser'\n",
      "jayden________\n",
      "'browser' object has no attribute 'browser'\n",
      "jordanmartsolf\n",
      "'browser' object has no attribute 'browser'\n",
      "zoesmodern\n",
      "'browser' object has no attribute 'browser'\n",
      "qtycosplay\n",
      "'browser' object has no attribute 'browser'\n",
      "migpin\n",
      "'browser' object has no attribute 'browser'\n",
      ".roses\n",
      "'browser' object has no attribute 'browser'\n",
      "nooneaskedu\n",
      "'browser' object has no attribute 'browser'\n",
      "sunflower.ashley\n",
      "'browser' object has no attribute 'browser'\n",
      "positivelexi\n",
      "'browser' object has no attribute 'browser'\n",
      "a.pariss\n",
      "'browser' object has no attribute 'browser'\n",
      "fricksauce572\n",
      "'browser' object has no attribute 'browser'\n",
      "hatice.24\n",
      "'browser' object has no attribute 'browser'\n",
      "0merali\n",
      "'browser' object has no attribute 'browser'\n",
      "itz_just_meee\n",
      "'browser' object has no attribute 'browser'\n",
      "dance.hilma\n",
      "'browser' object has no attribute 'browser'\n",
      "jamesblonde007\n",
      "'browser' object has no attribute 'browser'\n",
      "officialdakota\n",
      "'browser' object has no attribute 'browser'\n",
      "mihaly\n",
      "'browser' object has no attribute 'browser'\n",
      "strangerthings011eggo\n",
      "'browser' object has no attribute 'browser'\n",
      "moon.x.editzz\n",
      "'browser' object has no attribute 'browser'\n",
      "queenangel60\n",
      "'browser' object has no attribute 'browser'\n",
      "wyattdougls\n",
      "'browser' object has no attribute 'browser'\n",
      "zoesmonth\n",
      "'browser' object has no attribute 'browser'\n",
      "cherry...lqv\n",
      "'browser' object has no attribute 'browser'\n",
      "iloveshirleytemples\n",
      "'browser' object has no attribute 'browser'\n",
      "esse93\n",
      "'browser' object has no attribute 'browser'\n",
      "grecia145\n",
      "'browser' object has no attribute 'browser'\n",
      "kaylamulvihill\n",
      "'browser' object has no attribute 'browser'\n",
      "tiktoktomtom7\n",
      "'browser' object has no attribute 'browser'\n",
      "diisantoss\n",
      "'browser' object has no attribute 'browser'\n",
      ".laurenkim\n",
      "'browser' object has no attribute 'browser'\n",
      ".roblox_queen_\n",
      "'browser' object has no attribute 'browser'\n",
      "jas9596\n",
      "'browser' object has no attribute 'browser'\n",
      "megamindmeg\n",
      "'browser' object has no attribute 'browser'\n",
      "amiel_weiss7\n",
      "'browser' object has no attribute 'browser'\n",
      "jcasella\n",
      "'browser' object has no attribute 'browser'\n",
      "iibenjamin\n",
      "'browser' object has no attribute 'browser'\n",
      "facts_phobias\n",
      "'browser' object has no attribute 'browser'\n",
      "sweetjace55\n",
      "'browser' object has no attribute 'browser'\n",
      "x._bethh_.x\n",
      "'browser' object has no attribute 'browser'\n",
      "_baseball_hype_house_\n",
      "'browser' object has no attribute 'browser'\n",
      "valentinaa037\n",
      "'browser' object has no attribute 'browser'\n",
      "jelly_fruits_xx4\n",
      "'browser' object has no attribute 'browser'\n",
      "lorenzointhebenzo\n",
      "'browser' object has no attribute 'browser'\n",
      "basementcat\n",
      "'browser' object has no attribute 'browser'\n",
      "maroless\n",
      "'browser' object has no attribute 'browser'\n",
      "kidd.kdk\n",
      "'browser' object has no attribute 'browser'\n",
      "marta_cvijetic_09\n",
      "'browser' object has no attribute 'browser'\n",
      "_the_intr0vert_\n",
      "'browser' object has no attribute 'browser'\n",
      "chrisreynaga\n",
      "'browser' object has no attribute 'browser'\n",
      "xmrflimflamx\n",
      "'browser' object has no attribute 'browser'\n",
      "jimmybhathal\n",
      "'browser' object has no attribute 'browser'\n",
      "yaboijohnny96\n",
      "'browser' object has no attribute 'browser'\n",
      "siept\n",
      "'browser' object has no attribute 'browser'\n",
      "kingora\n",
      "'browser' object has no attribute 'browser'\n",
      "baby_girl467\n",
      "'browser' object has no attribute 'browser'\n",
      "nightmare207\n",
      "'browser' object has no attribute 'browser'\n",
      "0kate00\n",
      "'browser' object has no attribute 'browser'\n",
      "423gang\n",
      "'browser' object has no attribute 'browser'\n",
      "its_kevv\n",
      "'browser' object has no attribute 'browser'\n",
      "vibinallison\n",
      "'browser' object has no attribute 'browser'\n",
      "jessica.k.123\n",
      "'browser' object has no attribute 'browser'\n",
      "lara5580\n",
      "'browser' object has no attribute 'browser'\n",
      "starbucks\n",
      "'browser' object has no attribute 'browser'\n",
      "lilbigd\n",
      "'browser' object has no attribute 'browser'\n",
      "_charlidamelio..fanpage_\n",
      "'browser' object has no attribute 'browser'\n",
      ".crisplav\n",
      "'browser' object has no attribute 'browser'\n",
      "atul.16\n",
      "'browser' object has no attribute 'browser'\n",
      "sasukeswifey\n",
      "'browser' object has no attribute 'browser'\n",
      "ootony1310\n",
      "'browser' object has no attribute 'browser'\n",
      "dhiyadd\n",
      "'browser' object has no attribute 'browser'\n",
      "heyhoo4\n",
      "'browser' object has no attribute 'browser'\n",
      "jacobowens\n",
      "'browser' object has no attribute 'browser'\n",
      "user12226369\n",
      "'browser' object has no attribute 'browser'\n",
      "derekisboss\n",
      "'browser' object has no attribute 'browser'\n",
      "nemobigbutt\n",
      "'browser' object has no attribute 'browser'\n",
      "xo.mimii\n",
      "'browser' object has no attribute 'browser'\n",
      "fullpower420\n",
      "'browser' object has no attribute 'browser'\n",
      ".butterflyxcharli\n",
      "'browser' object has no attribute 'browser'\n",
      "theacefamilys\n",
      "'browser' object has no attribute 'browser'\n",
      "verifymepleasetiktok\n",
      "'browser' object has no attribute 'browser'\n",
      "daintyspa\n",
      "'browser' object has no attribute 'browser'\n",
      ".carebear.zlp\n",
      "'browser' object has no attribute 'browser'\n",
      "d4rk_sako\n",
      "'browser' object has no attribute 'browser'\n",
      "sofiad223\n",
      "'browser' object has no attribute 'browser'\n",
      "magestictiktoks\n",
      "'browser' object has no attribute 'browser'\n",
      "keine_videos_mehr\n",
      "'browser' object has no attribute 'browser'\n",
      "mobilabi\n",
      "'browser' object has no attribute 'browser'\n",
      "kjhyeon\n",
      "'browser' object has no attribute 'browser'\n",
      "just325\n",
      "'browser' object has no attribute 'browser'\n",
      "bruh\n",
      "'browser' object has no attribute 'browser'\n",
      "smallestpp\n",
      "'browser' object has no attribute 'browser'\n",
      "htv11\n",
      "'browser' object has no attribute 'browser'\n",
      "abigail_416\n",
      "'browser' object has no attribute 'browser'\n",
      "user39537094\n",
      "'browser' object has no attribute 'browser'\n",
      "maf_gomez\n",
      "'browser' object has no attribute 'browser'\n",
      "yeeet69420\n",
      "'browser' object has no attribute 'browser'\n",
      "dean734\n",
      "'browser' object has no attribute 'browser'\n",
      "blaze189\n",
      "'browser' object has no attribute 'browser'\n",
      "chopstick13\n",
      "'browser' object has no attribute 'browser'\n",
      "ranveersingh\n",
      "'browser' object has no attribute 'browser'\n",
      "gucci..charli\n",
      "'browser' object has no attribute 'browser'\n",
      "charli_and_zoe_fanpage\n"
     ]
    }
   ],
   "source": [
    "names = [n[1:] for n in names_list.split(',')]\n",
    "names = map(lambda n: n.lower(), names)\n",
    "#names = ['benthamite']\n",
    "for i in range(0,6000):\n",
    "    for name in names:\n",
    "        print(name)\n",
    "        try:\n",
    "            tiktoks = api.byUsername(name, count=3)\n",
    "        except Exception as e:\n",
    "            print(e)\n",
    "            continue\n",
    "        t_time=str(datetime.datetime.now())\n",
    "        print(len(tiktoks))\n",
    "        print(t_time)\n",
    "        for t in tiktoks:\n",
    "            new_t=json.dumps(t)\n",
    "            cur.execute('INSERT INTO tiktok (time,json) VALUES (%s,%s)', (t_time,new_t))\n",
    "            #outfile.write('%s\\t%s\\t%s\\n' % (t['id'],t_time,t))\n",
    "        conn.commit()\n",
    "        time.sleep(600 + randint(5, 15))\n",
    "        #time.sleep(randint(5, 15))\n",
    "cur.close()\n",
    "conn.close()"
   ]
  },
  {
   "cell_type": "code",
   "execution_count": null,
   "metadata": {},
   "outputs": [],
   "source": [
    "print(\"hi\")"
   ]
  },
  {
   "cell_type": "code",
   "execution_count": null,
   "metadata": {},
   "outputs": [],
   "source": [
    "cur.close()\n",
    "conn.close()"
   ]
  },
  {
   "cell_type": "code",
   "execution_count": 122,
   "metadata": {},
   "outputs": [
    {
     "data": {
      "text/html": [
       "<div>\n",
       "<style scoped>\n",
       "    .dataframe tbody tr th:only-of-type {\n",
       "        vertical-align: middle;\n",
       "    }\n",
       "\n",
       "    .dataframe tbody tr th {\n",
       "        vertical-align: top;\n",
       "    }\n",
       "\n",
       "    .dataframe thead th {\n",
       "        text-align: right;\n",
       "    }\n",
       "</style>\n",
       "<table border=\"1\" class=\"dataframe\">\n",
       "  <thead>\n",
       "    <tr style=\"text-align: right;\">\n",
       "      <th></th>\n",
       "      <th>user_id</th>\n",
       "      <th>event_id</th>\n",
       "      <th>event_name</th>\n",
       "      <th>user_action</th>\n",
       "    </tr>\n",
       "  </thead>\n",
       "  <tbody>\n",
       "    <tr>\n",
       "      <th>0</th>\n",
       "      <td>1</td>\n",
       "      <td>1</td>\n",
       "      <td>Studio 1</td>\n",
       "      <td>CHECKIN</td>\n",
       "    </tr>\n",
       "    <tr>\n",
       "      <th>1</th>\n",
       "      <td>3</td>\n",
       "      <td>1</td>\n",
       "      <td>Studio 1</td>\n",
       "      <td>REGISTER</td>\n",
       "    </tr>\n",
       "    <tr>\n",
       "      <th>2</th>\n",
       "      <td>3</td>\n",
       "      <td>1</td>\n",
       "      <td>None</td>\n",
       "      <td>REGISTER</td>\n",
       "    </tr>\n",
       "  </tbody>\n",
       "</table>\n",
       "</div>"
      ],
      "text/plain": [
       "   user_id  event_id event_name user_action\n",
       "0        1         1   Studio 1     CHECKIN\n",
       "1        3         1   Studio 1    REGISTER\n",
       "2        3         1       None    REGISTER"
      ]
     },
     "execution_count": 122,
     "metadata": {},
     "output_type": "execute_result"
    }
   ],
   "source": [
    "data = db_query('firsttable')\n",
    "class_event_df = pd.DataFrame(data, columns=['user_id', 'event_id', 'event_name','user_action'])\n",
    "class_event_df.head(3)"
   ]
  },
  {
   "cell_type": "markdown",
   "metadata": {},
   "source": [
    "Side note: what's up with the missing `h` in `igh_class_events` 😂"
   ]
  },
  {
   "cell_type": "markdown",
   "metadata": {},
   "source": [
    "  "
   ]
  },
  {
   "cell_type": "markdown",
   "metadata": {},
   "source": [
    "--- "
   ]
  },
  {
   "cell_type": "code",
   "execution_count": null,
   "metadata": {},
   "outputs": [],
   "source": []
  },
  {
   "cell_type": "markdown",
   "metadata": {},
   "source": [
    " "
   ]
  },
  {
   "cell_type": "markdown",
   "metadata": {},
   "source": [
    "---"
   ]
  },
  {
   "cell_type": "markdown",
   "metadata": {},
   "source": [
    "#### SQL Answer:"
   ]
  },
  {
   "cell_type": "code",
   "execution_count": null,
   "metadata": {},
   "outputs": [],
   "source": []
  },
  {
   "cell_type": "markdown",
   "metadata": {},
   "source": [
    " "
   ]
  },
  {
   "cell_type": "markdown",
   "metadata": {},
   "source": [
    "----"
   ]
  },
  {
   "cell_type": "code",
   "execution_count": null,
   "metadata": {},
   "outputs": [],
   "source": []
  }
 ],
 "metadata": {
  "kernelspec": {
   "display_name": "Python 3",
   "language": "python",
   "name": "python3"
  },
  "language_info": {
   "codemirror_mode": {
    "name": "ipython",
    "version": 3
   },
   "file_extension": ".py",
   "mimetype": "text/x-python",
   "name": "python",
   "nbconvert_exporter": "python",
   "pygments_lexer": "ipython3",
   "version": "3.7.6"
  }
 },
 "nbformat": 4,
 "nbformat_minor": 2
}
